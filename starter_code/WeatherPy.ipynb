{
 "cells": [
  {
   "cell_type": "markdown",
   "metadata": {},
   "source": [
    "# WeatherPy\n",
    "----\n",
    "\n",
    "#### Note\n",
    "* Instructions have been included for each segment. You do not have to follow them exactly, but they are included to help you think through the steps."
   ]
  },
  {
   "cell_type": "code",
   "execution_count": 46,
   "metadata": {
    "scrolled": true
   },
   "outputs": [],
   "source": [
    "# Dependencies and Setup\n",
    "import matplotlib.pyplot as plt\n",
    "import pandas as pd\n",
    "import numpy as np\n",
    "import requests\n",
    "import time\n",
    "from scipy.stats import linregress\n",
    "\n",
    "# Import API key\n",
    "from api_keys import weather_api_key\n",
    "\n",
    "# Incorporated citipy to determine city based on latitude and longitude\n",
    "from citipy import citipy\n",
    "\n",
    "# Output File (CSV)\n",
    "output_data_file = \"output_data/city_data.csv\"\n",
    "\n",
    "# Range of latitudes and longitudes\n",
    "lat_range = (-90, 90)\n",
    "lng_range = (-180, 180)"
   ]
  },
  {
   "cell_type": "markdown",
   "metadata": {},
   "source": [
    "## Generate Cities List"
   ]
  },
  {
   "cell_type": "code",
   "execution_count": 3,
   "metadata": {},
   "outputs": [
    {
     "data": {
      "text/plain": [
       "616"
      ]
     },
     "execution_count": 3,
     "metadata": {},
     "output_type": "execute_result"
    }
   ],
   "source": [
    "# List for holding lat_lngs and cities\n",
    "lat_lngs = []\n",
    "cities = []\n",
    "\n",
    "# Create a set of random lat and lng combinations\n",
    "lats = np.random.uniform(lat_range[0], lat_range[1], size=1500)\n",
    "lngs = np.random.uniform(lng_range[0], lng_range[1], size=1500)\n",
    "lat_lngs = zip(lats, lngs)\n",
    "\n",
    "# Identify nearest city for each lat, lng combination\n",
    "for lat_lng in lat_lngs:\n",
    "    city = citipy.nearest_city(lat_lng[0], lat_lng[1]).city_name\n",
    "    \n",
    "    # If the city is unique, then add it to a our cities list\n",
    "    if city not in cities:\n",
    "        cities.append(city)\n",
    "\n",
    "# Print the city count to confirm sufficient count\n",
    "len(cities)"
   ]
  },
  {
   "cell_type": "markdown",
   "metadata": {},
   "source": [
    "### Perform API Calls\n",
    "* Perform a weather check on each city using a series of successive API calls.\n",
    "* Include a print log of each city as it'sbeing processed (with the city number and city name).\n"
   ]
  },
  {
   "cell_type": "code",
   "execution_count": 4,
   "metadata": {},
   "outputs": [
    {
     "name": "stdout",
     "output_type": "stream",
     "text": [
      "Beginning of Data Retreival\n",
      "------------------------------\n",
      "Processing Record 1 of 616. | punta arenas\n",
      "Processing Record 2 of 616. | kapaa\n",
      "Processing Record 3 of 616. | port elizabeth\n",
      "Processing Record 4 of 616. | avarua\n",
      "Processing Record 5 of 616. | saint-philippe\n",
      "Processing Record 6 of 616. | new norfolk\n",
      "Processing Record 7 of 616. | rikitea\n",
      "Processing Record 8 of 616. | katsuura\n",
      "Processing Record 9 of 616. | lakes entrance\n",
      "Processing Record 10 of 616. | albany\n",
      "Processing Record 11 of 616. | qaanaaq\n",
      "Processing Record 12 of 616. | yaan\n",
      "Processing Record 13 of 616. | egvekinot\n",
      "City not found. Skipping...\n",
      "Processing Record 15 of 616. | laguna\n",
      "Processing Record 16 of 616. | yantzaza\n",
      "Processing Record 17 of 616. | cabo san lucas\n",
      "Processing Record 18 of 616. | torbay\n",
      "Processing Record 19 of 616. | farmington\n",
      "City not found. Skipping...\n",
      "Processing Record 21 of 616. | georgetown\n",
      "Processing Record 22 of 616. | east london\n",
      "Processing Record 23 of 616. | busselton\n",
      "Processing Record 24 of 616. | dikson\n",
      "Processing Record 25 of 616. | changji\n",
      "Processing Record 26 of 616. | karratha\n",
      "Processing Record 27 of 616. | wuwei\n",
      "Processing Record 28 of 616. | bredasdorp\n",
      "Processing Record 29 of 616. | cape town\n",
      "Processing Record 30 of 616. | atuona\n",
      "Processing Record 31 of 616. | fortuna\n",
      "Processing Record 32 of 616. | cidreira\n",
      "Processing Record 33 of 616. | port alfred\n",
      "Processing Record 34 of 616. | ushuaia\n",
      "Processing Record 35 of 616. | kodinsk\n",
      "Processing Record 36 of 616. | saint anthony\n",
      "Processing Record 37 of 616. | chalette-sur-loing\n",
      "Processing Record 38 of 616. | ribeira grande\n",
      "Processing Record 39 of 616. | puerto ayora\n",
      "Processing Record 40 of 616. | vaini\n",
      "Processing Record 41 of 616. | parainen\n",
      "Processing Record 42 of 616. | lorengau\n",
      "Processing Record 43 of 616. | mataura\n",
      "Processing Record 44 of 616. | jamestown\n",
      "Processing Record 45 of 616. | polyarnyy\n",
      "Processing Record 46 of 616. | esperance\n",
      "Processing Record 47 of 616. | popondetta\n",
      "Processing Record 48 of 616. | yabelo\n",
      "Processing Record 49 of 616. | hobart\n",
      "Processing Record 50 of 616. | atikokan\n",
      "Processing Record 51 of 616. | port lincoln\n",
      "Processing Record 52 of 616. | portland\n",
      "Processing Record 53 of 616. | timaru\n",
      "Processing Record 54 of 616. | ovalle\n",
      "Processing Record 55 of 616. | korla\n",
      "City not found. Skipping...\n",
      "Processing Record 57 of 616. | mareeba\n",
      "City not found. Skipping...\n",
      "Processing Record 59 of 616. | santiago\n",
      "Processing Record 60 of 616. | alnashi\n",
      "Processing Record 61 of 616. | hilo\n",
      "Processing Record 62 of 616. | castro\n",
      "Processing Record 63 of 616. | ancud\n",
      "Processing Record 64 of 616. | lapa\n",
      "Processing Record 65 of 616. | kaka\n",
      "Processing Record 66 of 616. | bubaque\n",
      "Processing Record 67 of 616. | sisimiut\n",
      "Processing Record 68 of 616. | hobyo\n",
      "Processing Record 69 of 616. | chokurdakh\n",
      "Processing Record 70 of 616. | mehamn\n",
      "Processing Record 71 of 616. | carnarvon\n",
      "City not found. Skipping...\n",
      "Processing Record 73 of 616. | lasem\n",
      "Processing Record 74 of 616. | kikwit\n",
      "Processing Record 75 of 616. | coquimbo\n",
      "Processing Record 76 of 616. | bluff\n",
      "Processing Record 77 of 616. | san buenaventura\n",
      "Processing Record 78 of 616. | khatanga\n",
      "Processing Record 79 of 616. | hervey bay\n",
      "City not found. Skipping...\n",
      "Processing Record 81 of 616. | san patricio\n",
      "Processing Record 82 of 616. | hithadhoo\n",
      "Processing Record 83 of 616. | cherskiy\n",
      "Processing Record 84 of 616. | atar\n",
      "Processing Record 85 of 616. | kaitangata\n",
      "Processing Record 86 of 616. | bathsheba\n",
      "Processing Record 87 of 616. | camacha\n",
      "Processing Record 88 of 616. | mayo\n",
      "Processing Record 89 of 616. | sistranda\n",
      "Processing Record 90 of 616. | saskylakh\n",
      "Processing Record 91 of 616. | vavuniya\n",
      "Processing Record 92 of 616. | diamantino\n",
      "Processing Record 93 of 616. | badarganj\n",
      "Processing Record 94 of 616. | kosa\n",
      "Processing Record 95 of 616. | scarborough\n",
      "Processing Record 96 of 616. | provideniya\n",
      "Processing Record 97 of 616. | tukrah\n",
      "Processing Record 98 of 616. | shirokiy\n",
      "Processing Record 99 of 616. | aykhal\n",
      "Processing Record 100 of 616. | svetlogorsk\n",
      "Processing Record 101 of 616. | talnakh\n",
      "Processing Record 102 of 616. | chiredzi\n",
      "Processing Record 103 of 616. | sibinal\n",
      "Processing Record 104 of 616. | mumford\n",
      "Processing Record 105 of 616. | hermanus\n",
      "Processing Record 106 of 616. | shiyan\n",
      "Processing Record 107 of 616. | pangnirtung\n",
      "Processing Record 108 of 616. | butaritari\n",
      "City not found. Skipping...\n",
      "City not found. Skipping...\n",
      "Processing Record 111 of 616. | tasiilaq\n",
      "Processing Record 112 of 616. | fomboni\n",
      "City not found. Skipping...\n",
      "Processing Record 114 of 616. | mount gambier\n",
      "Processing Record 115 of 616. | mitu\n",
      "Processing Record 116 of 616. | homer\n",
      "Processing Record 117 of 616. | constitucion\n",
      "Processing Record 118 of 616. | kodiak\n",
      "Processing Record 119 of 616. | bogorodskoye\n",
      "Processing Record 120 of 616. | yulara\n",
      "Processing Record 121 of 616. | thompson\n",
      "Processing Record 122 of 616. | araxa\n",
      "City not found. Skipping...\n",
      "Processing Record 124 of 616. | vilhena\n",
      "Processing Record 125 of 616. | tahe\n",
      "Processing Record 126 of 616. | poum\n",
      "Processing Record 127 of 616. | barrow\n",
      "Processing Record 128 of 616. | sao joao da barra\n",
      "Processing Record 129 of 616. | norman wells\n",
      "Processing Record 130 of 616. | longyearbyen\n",
      "Processing Record 131 of 616. | manggar\n",
      "Processing Record 132 of 616. | walvis bay\n",
      "Processing Record 133 of 616. | tuktoyaktuk\n",
      "Processing Record 134 of 616. | yatou\n",
      "Processing Record 135 of 616. | zyryanka\n",
      "Processing Record 136 of 616. | henties bay\n",
      "Processing Record 137 of 616. | nikolskoye\n",
      "Processing Record 138 of 616. | okhotsk\n",
      "Processing Record 139 of 616. | iqaluit\n",
      "Processing Record 140 of 616. | tiksi\n",
      "Processing Record 141 of 616. | shetpe\n",
      "Processing Record 142 of 616. | yellowknife\n",
      "Processing Record 143 of 616. | nuuk\n",
      "Processing Record 144 of 616. | tazmalt\n",
      "City not found. Skipping...\n",
      "Processing Record 146 of 616. | gillette\n",
      "Processing Record 147 of 616. | muros\n",
      "Processing Record 148 of 616. | lumphat\n",
      "City not found. Skipping...\n",
      "Processing Record 150 of 616. | sao filipe\n",
      "Processing Record 151 of 616. | benguela\n",
      "Processing Record 152 of 616. | nova olimpia\n",
      "Processing Record 153 of 616. | kabalo\n",
      "Processing Record 154 of 616. | male\n",
      "City not found. Skipping...\n",
      "Processing Record 156 of 616. | angoche\n",
      "Processing Record 157 of 616. | lysva\n",
      "Processing Record 158 of 616. | clarence town\n",
      "Processing Record 159 of 616. | halifax\n",
      "Processing Record 160 of 616. | bellevue\n",
      "Processing Record 161 of 616. | airai\n",
      "Processing Record 162 of 616. | the valley\n",
      "Processing Record 163 of 616. | berlevag\n",
      "Processing Record 164 of 616. | talara\n",
      "Processing Record 165 of 616. | sandwick\n",
      "Processing Record 166 of 616. | kirakira\n",
      "Processing Record 167 of 616. | de-kastri\n",
      "Processing Record 168 of 616. | nioro\n",
      "Processing Record 169 of 616. | arraial do cabo\n",
      "Processing Record 170 of 616. | necochea\n",
      "Processing Record 171 of 616. | nome\n",
      "Processing Record 172 of 616. | ouegoa\n",
      "Processing Record 173 of 616. | chuy\n",
      "Processing Record 174 of 616. | la ronge\n",
      "Processing Record 175 of 616. | salvador\n",
      "Processing Record 176 of 616. | punta alta\n",
      "Processing Record 177 of 616. | sayyan\n",
      "Processing Record 178 of 616. | pevek\n",
      "Processing Record 179 of 616. | amazar\n",
      "Processing Record 180 of 616. | phulji\n",
      "Processing Record 181 of 616. | hamilton\n",
      "Processing Record 182 of 616. | ponta do sol\n",
      "Processing Record 183 of 616. | jeremie\n",
      "Processing Record 184 of 616. | puerto carreno\n",
      "City not found. Skipping...\n",
      "Processing Record 186 of 616. | bilibino\n",
      "Processing Record 187 of 616. | carutapera\n",
      "Processing Record 188 of 616. | auki\n",
      "Processing Record 189 of 616. | bojnurd\n",
      "Processing Record 190 of 616. | huarmey\n",
      "Processing Record 191 of 616. | vangaindrano\n",
      "Processing Record 192 of 616. | west plains\n",
      "Processing Record 193 of 616. | severo-kurilsk\n",
      "Processing Record 194 of 616. | botshabelo\n",
      "Processing Record 195 of 616. | maarianhamina\n",
      "Processing Record 196 of 616. | los llanos de aridane\n",
      "Processing Record 197 of 616. | jijiga\n",
      "Processing Record 198 of 616. | fushun\n",
      "Processing Record 199 of 616. | pumiao\n",
      "Processing Record 200 of 616. | lompoc\n",
      "Processing Record 201 of 616. | fare\n",
      "Processing Record 202 of 616. | bengkulu\n",
      "Processing Record 203 of 616. | dubbo\n",
      "City not found. Skipping...\n",
      "Processing Record 205 of 616. | mar del plata\n"
     ]
    },
    {
     "name": "stdout",
     "output_type": "stream",
     "text": [
      "Processing Record 206 of 616. | zuwarah\n",
      "City not found. Skipping...\n",
      "Processing Record 208 of 616. | pisco\n",
      "Processing Record 209 of 616. | pemberton\n",
      "Processing Record 210 of 616. | kholtoson\n",
      "Processing Record 211 of 616. | avenal\n",
      "Processing Record 212 of 616. | labuhan\n",
      "Processing Record 213 of 616. | libertador general san martin\n",
      "Processing Record 214 of 616. | ambilobe\n",
      "Processing Record 215 of 616. | nelson bay\n",
      "Processing Record 216 of 616. | padang\n",
      "Processing Record 217 of 616. | ornskoldsvik\n",
      "Processing Record 218 of 616. | baherden\n",
      "Processing Record 219 of 616. | talakan\n",
      "Processing Record 220 of 616. | karoi\n",
      "Processing Record 221 of 616. | atambua\n",
      "Processing Record 222 of 616. | lastoursville\n",
      "Processing Record 223 of 616. | lumberton\n",
      "Processing Record 224 of 616. | lebu\n",
      "Processing Record 225 of 616. | alta floresta\n",
      "Processing Record 226 of 616. | sola\n",
      "Processing Record 227 of 616. | margate\n",
      "Processing Record 228 of 616. | hofn\n",
      "City not found. Skipping...\n",
      "Processing Record 230 of 616. | gat\n",
      "Processing Record 231 of 616. | coihaique\n",
      "Processing Record 232 of 616. | vila velha\n",
      "Processing Record 233 of 616. | souillac\n",
      "Processing Record 234 of 616. | bryan\n",
      "City not found. Skipping...\n",
      "Processing Record 236 of 616. | manono\n",
      "Processing Record 237 of 616. | estelle\n",
      "Processing Record 238 of 616. | pundaguitan\n",
      "Processing Record 239 of 616. | christchurch\n",
      "Processing Record 240 of 616. | yamada\n",
      "Processing Record 241 of 616. | knysna\n",
      "Processing Record 242 of 616. | upington\n",
      "Processing Record 243 of 616. | mount isa\n",
      "Processing Record 244 of 616. | nyahururu\n",
      "Processing Record 245 of 616. | lagoa\n",
      "City not found. Skipping...\n",
      "Processing Record 247 of 616. | cotonou\n",
      "Processing Record 248 of 616. | upernavik\n",
      "Processing Record 249 of 616. | darfield\n",
      "Processing Record 250 of 616. | vao\n",
      "Processing Record 251 of 616. | wajir\n",
      "Processing Record 252 of 616. | phanat nikhom\n",
      "Processing Record 253 of 616. | xiuyan\n",
      "Processing Record 254 of 616. | seinajoki\n",
      "Processing Record 255 of 616. | clonakilty\n",
      "Processing Record 256 of 616. | najran\n",
      "Processing Record 257 of 616. | innisfail\n",
      "Processing Record 258 of 616. | clyde river\n",
      "Processing Record 259 of 616. | narsaq\n",
      "Processing Record 260 of 616. | sioux lookout\n",
      "Processing Record 261 of 616. | markova\n",
      "Processing Record 262 of 616. | chato\n",
      "Processing Record 263 of 616. | dhone\n",
      "Processing Record 264 of 616. | ucluelet\n",
      "Processing Record 265 of 616. | puro\n",
      "Processing Record 266 of 616. | keti bandar\n",
      "Processing Record 267 of 616. | ha giang\n",
      "Processing Record 268 of 616. | zhezkazgan\n",
      "Processing Record 269 of 616. | kenora\n",
      "Processing Record 270 of 616. | tautira\n",
      "Processing Record 271 of 616. | guerrero negro\n",
      "Processing Record 272 of 616. | sunland park\n",
      "Processing Record 273 of 616. | piotrkow trybunalski\n",
      "Processing Record 274 of 616. | claresholm\n",
      "Processing Record 275 of 616. | mago\n",
      "Processing Record 276 of 616. | lagdo\n",
      "Processing Record 277 of 616. | porec\n",
      "Processing Record 278 of 616. | eureka\n",
      "Processing Record 279 of 616. | svetlaya\n",
      "Processing Record 280 of 616. | uvalde\n",
      "Processing Record 281 of 616. | tura\n",
      "Processing Record 282 of 616. | victoria\n",
      "Processing Record 283 of 616. | beringovskiy\n",
      "Processing Record 284 of 616. | klaksvik\n",
      "City not found. Skipping...\n",
      "Processing Record 286 of 616. | yerbogachen\n",
      "Processing Record 287 of 616. | bambous virieux\n",
      "Processing Record 288 of 616. | kavaratti\n",
      "Processing Record 289 of 616. | atbasar\n",
      "Processing Record 290 of 616. | morondava\n",
      "Processing Record 291 of 616. | pizarro\n",
      "Processing Record 292 of 616. | sampit\n",
      "Processing Record 293 of 616. | dauphin\n",
      "Processing Record 294 of 616. | ginda\n",
      "Processing Record 295 of 616. | kloulklubed\n",
      "Processing Record 296 of 616. | san cristobal\n",
      "Processing Record 297 of 616. | legnica\n",
      "Processing Record 298 of 616. | broken hill\n",
      "Processing Record 299 of 616. | tabou\n",
      "Processing Record 300 of 616. | pecos\n",
      "Processing Record 301 of 616. | grindavik\n",
      "Processing Record 302 of 616. | mlonggo\n",
      "Processing Record 303 of 616. | khorixas\n",
      "Processing Record 304 of 616. | palmer\n",
      "Processing Record 305 of 616. | nanortalik\n",
      "Processing Record 306 of 616. | altay\n",
      "Processing Record 307 of 616. | deputatskiy\n",
      "Processing Record 308 of 616. | cam ranh\n",
      "Processing Record 309 of 616. | hauknes\n",
      "Processing Record 310 of 616. | bulgan\n",
      "Processing Record 311 of 616. | solano\n",
      "Processing Record 312 of 616. | fengzhen\n",
      "Processing Record 313 of 616. | aksarka\n",
      "Processing Record 314 of 616. | vanderhoof\n",
      "Processing Record 315 of 616. | contamana\n",
      "Processing Record 316 of 616. | kshenskiy\n",
      "Processing Record 317 of 616. | port blair\n",
      "Processing Record 318 of 616. | tacna\n",
      "Processing Record 319 of 616. | olinda\n",
      "Processing Record 320 of 616. | warrington\n",
      "Processing Record 321 of 616. | touros\n",
      "Processing Record 322 of 616. | bilma\n",
      "Processing Record 323 of 616. | blackfoot\n",
      "Processing Record 324 of 616. | ulaangom\n",
      "Processing Record 325 of 616. | college\n",
      "Processing Record 326 of 616. | orlik\n",
      "Processing Record 327 of 616. | ilulissat\n",
      "Processing Record 328 of 616. | shangrao\n",
      "Processing Record 329 of 616. | gizo\n",
      "Processing Record 330 of 616. | medea\n",
      "Processing Record 331 of 616. | turayf\n",
      "Processing Record 332 of 616. | badhni kalan\n",
      "Processing Record 333 of 616. | altoona\n",
      "Processing Record 334 of 616. | sobolevo\n",
      "Processing Record 335 of 616. | ca mau\n",
      "City not found. Skipping...\n",
      "Processing Record 337 of 616. | preobrazheniye\n",
      "Processing Record 338 of 616. | waipawa\n",
      "Processing Record 339 of 616. | alofi\n",
      "Processing Record 340 of 616. | alice springs\n",
      "Processing Record 341 of 616. | luderitz\n",
      "Processing Record 342 of 616. | asau\n",
      "Processing Record 343 of 616. | juneau\n",
      "City not found. Skipping...\n",
      "Processing Record 345 of 616. | colares\n",
      "Processing Record 346 of 616. | fairbanks\n",
      "Processing Record 347 of 616. | magadan\n",
      "Processing Record 348 of 616. | porto nacional\n",
      "Processing Record 349 of 616. | waingapu\n",
      "Processing Record 350 of 616. | banda aceh\n",
      "Processing Record 351 of 616. | mokokchung\n",
      "Processing Record 352 of 616. | temascalcingo\n",
      "Processing Record 353 of 616. | kampot\n",
      "Processing Record 354 of 616. | roros\n",
      "Processing Record 355 of 616. | steinbach\n",
      "Processing Record 356 of 616. | hambantota\n",
      "Processing Record 357 of 616. | mahenge\n",
      "City not found. Skipping...\n",
      "City not found. Skipping...\n",
      "Processing Record 360 of 616. | krasnyy chikoy\n",
      "City not found. Skipping...\n",
      "Processing Record 362 of 616. | sitka\n",
      "Processing Record 363 of 616. | balad\n",
      "Processing Record 364 of 616. | blacksburg\n",
      "Processing Record 365 of 616. | roald\n",
      "Processing Record 366 of 616. | salalah\n",
      "Processing Record 367 of 616. | golden\n",
      "Processing Record 368 of 616. | big spring\n",
      "Processing Record 369 of 616. | scicli\n",
      "Processing Record 370 of 616. | natchitoches\n",
      "Processing Record 371 of 616. | saint-leu\n",
      "Processing Record 372 of 616. | zaraza\n",
      "Processing Record 373 of 616. | okha\n",
      "Processing Record 374 of 616. | hasaki\n",
      "Processing Record 375 of 616. | nantucket\n",
      "Processing Record 376 of 616. | tuatapere\n",
      "Processing Record 377 of 616. | chokwe\n",
      "Processing Record 378 of 616. | shelbyville\n",
      "Processing Record 379 of 616. | doba\n",
      "Processing Record 380 of 616. | francia\n",
      "Processing Record 381 of 616. | bac lieu\n",
      "Processing Record 382 of 616. | forst\n",
      "Processing Record 383 of 616. | mayumba\n",
      "Processing Record 384 of 616. | bontang\n",
      "City not found. Skipping...\n",
      "City not found. Skipping...\n",
      "Processing Record 387 of 616. | faanui\n",
      "Processing Record 388 of 616. | bud\n",
      "Processing Record 389 of 616. | baykit\n",
      "Processing Record 390 of 616. | bonavista\n",
      "Processing Record 391 of 616. | pacific grove\n",
      "Processing Record 392 of 616. | komsomolskiy\n",
      "City not found. Skipping...\n",
      "Processing Record 394 of 616. | sao felix do xingu\n",
      "Processing Record 395 of 616. | poso\n",
      "Processing Record 396 of 616. | bethel\n",
      "Processing Record 397 of 616. | kambia\n",
      "Processing Record 398 of 616. | zhaoyang\n",
      "Processing Record 399 of 616. | sorland\n",
      "Processing Record 400 of 616. | mokhsogollokh\n",
      "Processing Record 401 of 616. | makaha\n",
      "Processing Record 402 of 616. | matadi\n",
      "Processing Record 403 of 616. | sam roi yot\n",
      "Processing Record 404 of 616. | mahebourg\n",
      "Processing Record 405 of 616. | bahia blanca\n",
      "Processing Record 406 of 616. | uige\n",
      "Processing Record 407 of 616. | byron bay\n",
      "City not found. Skipping...\n",
      "City not found. Skipping...\n",
      "Processing Record 410 of 616. | benjamin constant\n"
     ]
    },
    {
     "name": "stdout",
     "output_type": "stream",
     "text": [
      "Processing Record 411 of 616. | roebourne\n",
      "Processing Record 412 of 616. | rocha\n",
      "Processing Record 413 of 616. | fowa\n",
      "Processing Record 414 of 616. | annau\n",
      "Processing Record 415 of 616. | ostrovnoy\n",
      "Processing Record 416 of 616. | paraiso\n",
      "Processing Record 417 of 616. | barinas\n",
      "City not found. Skipping...\n",
      "Processing Record 419 of 616. | roma\n",
      "Processing Record 420 of 616. | abu kamal\n",
      "Processing Record 421 of 616. | urumqi\n",
      "Processing Record 422 of 616. | hun\n",
      "Processing Record 423 of 616. | barreirinha\n",
      "Processing Record 424 of 616. | darnah\n",
      "Processing Record 425 of 616. | itarema\n",
      "Processing Record 426 of 616. | springbok\n",
      "Processing Record 427 of 616. | bandhi\n",
      "Processing Record 428 of 616. | banihal\n",
      "Processing Record 429 of 616. | san ignacio\n",
      "Processing Record 430 of 616. | nelson\n",
      "Processing Record 431 of 616. | neerijnen\n",
      "Processing Record 432 of 616. | little current\n",
      "Processing Record 433 of 616. | qixingtai\n",
      "Processing Record 434 of 616. | vidim\n",
      "City not found. Skipping...\n",
      "Processing Record 436 of 616. | ivoti\n",
      "Processing Record 437 of 616. | isangel\n",
      "Processing Record 438 of 616. | leshan\n",
      "Processing Record 439 of 616. | barra patuca\n",
      "Processing Record 440 of 616. | puyang\n",
      "Processing Record 441 of 616. | kavieng\n",
      "Processing Record 442 of 616. | port augusta\n",
      "Processing Record 443 of 616. | grand gaube\n",
      "Processing Record 444 of 616. | noumea\n",
      "Processing Record 445 of 616. | hami\n",
      "Processing Record 446 of 616. | cahors\n",
      "Processing Record 447 of 616. | russell\n",
      "Processing Record 448 of 616. | ixtapa\n",
      "Processing Record 449 of 616. | ushtobe\n",
      "Processing Record 450 of 616. | samarai\n",
      "Processing Record 451 of 616. | teknaf\n",
      "Processing Record 452 of 616. | pangkalanbuun\n",
      "Processing Record 453 of 616. | minyar\n",
      "Processing Record 454 of 616. | tamiahua\n",
      "Processing Record 455 of 616. | ouallam\n",
      "Processing Record 456 of 616. | gornopravdinsk\n",
      "Processing Record 457 of 616. | saint george\n",
      "Processing Record 458 of 616. | avera\n",
      "Processing Record 459 of 616. | digha\n",
      "Processing Record 460 of 616. | kurilsk\n",
      "Processing Record 461 of 616. | pangody\n",
      "Processing Record 462 of 616. | warren\n",
      "Processing Record 463 of 616. | venado tuerto\n",
      "Processing Record 464 of 616. | havre-saint-pierre\n",
      "Processing Record 465 of 616. | mersing\n",
      "Processing Record 466 of 616. | llodio\n",
      "Processing Record 467 of 616. | oranjemund\n",
      "Processing Record 468 of 616. | sabancuy\n",
      "Processing Record 469 of 616. | faya\n",
      "Processing Record 470 of 616. | ahuimanu\n",
      "Processing Record 471 of 616. | rundu\n",
      "Processing Record 472 of 616. | axim\n",
      "Processing Record 473 of 616. | vila franca do campo\n",
      "Processing Record 474 of 616. | takaka\n",
      "Processing Record 475 of 616. | ylojarvi\n",
      "Processing Record 476 of 616. | ayan\n",
      "City not found. Skipping...\n",
      "Processing Record 478 of 616. | muyezerskiy\n",
      "Processing Record 479 of 616. | kishorganj\n",
      "Processing Record 480 of 616. | beloha\n",
      "Processing Record 481 of 616. | high level\n",
      "Processing Record 482 of 616. | vardo\n",
      "Processing Record 483 of 616. | great falls\n",
      "Processing Record 484 of 616. | barra do garcas\n",
      "Processing Record 485 of 616. | salina\n",
      "Processing Record 486 of 616. | codrington\n",
      "Processing Record 487 of 616. | shimoda\n",
      "Processing Record 488 of 616. | sept-iles\n",
      "Processing Record 489 of 616. | abha\n",
      "Processing Record 490 of 616. | rochegda\n",
      "Processing Record 491 of 616. | oktyabrskiy\n",
      "Processing Record 492 of 616. | cortez\n",
      "Processing Record 493 of 616. | cabedelo\n",
      "Processing Record 494 of 616. | trairi\n",
      "Processing Record 495 of 616. | nueve de julio\n",
      "City not found. Skipping...\n",
      "Processing Record 497 of 616. | bereznik\n",
      "Processing Record 498 of 616. | west wendover\n",
      "Processing Record 499 of 616. | tigil\n",
      "Processing Record 500 of 616. | namibe\n",
      "Processing Record 501 of 616. | broome\n",
      "City not found. Skipping...\n",
      "Processing Record 503 of 616. | kundla\n",
      "Processing Record 504 of 616. | sudislavl\n",
      "Processing Record 505 of 616. | guozhen\n",
      "Processing Record 506 of 616. | sakakah\n",
      "Processing Record 507 of 616. | ust-ilimsk\n",
      "Processing Record 508 of 616. | hanzhong\n",
      "Processing Record 509 of 616. | koslan\n",
      "Processing Record 510 of 616. | sambava\n",
      "Processing Record 511 of 616. | mehran\n",
      "Processing Record 512 of 616. | moose factory\n",
      "Processing Record 513 of 616. | khapa\n",
      "Processing Record 514 of 616. | khatassy\n",
      "Processing Record 515 of 616. | pareora\n",
      "Processing Record 516 of 616. | batticaloa\n",
      "Processing Record 517 of 616. | kahului\n",
      "Processing Record 518 of 616. | tual\n",
      "Processing Record 519 of 616. | haines junction\n",
      "Processing Record 520 of 616. | vila\n",
      "Processing Record 521 of 616. | shorewood\n",
      "Processing Record 522 of 616. | san-pedro\n",
      "Processing Record 523 of 616. | california\n",
      "Processing Record 524 of 616. | tutoia\n",
      "Processing Record 525 of 616. | ontario\n",
      "Processing Record 526 of 616. | dolores\n",
      "City not found. Skipping...\n",
      "Processing Record 528 of 616. | yar-sale\n",
      "Processing Record 529 of 616. | techiman\n",
      "City not found. Skipping...\n",
      "Processing Record 531 of 616. | goderich\n",
      "Processing Record 532 of 616. | rio grande\n",
      "Processing Record 533 of 616. | nizwa\n",
      "Processing Record 534 of 616. | buchanan\n",
      "Processing Record 535 of 616. | nabire\n",
      "Processing Record 536 of 616. | zhangye\n",
      "Processing Record 537 of 616. | murchison\n",
      "Processing Record 538 of 616. | santa teresa\n",
      "Processing Record 539 of 616. | los alamos\n",
      "Processing Record 540 of 616. | aklavik\n",
      "Processing Record 541 of 616. | sao jose da coroa grande\n",
      "Processing Record 542 of 616. | bonthe\n",
      "Processing Record 543 of 616. | ingham\n",
      "Processing Record 544 of 616. | cap malheureux\n",
      "Processing Record 545 of 616. | miandrivazo\n",
      "Processing Record 546 of 616. | zhigansk\n",
      "Processing Record 547 of 616. | nuevitas\n",
      "Processing Record 548 of 616. | yueyang\n",
      "Processing Record 549 of 616. | viedma\n",
      "City not found. Skipping...\n",
      "Processing Record 551 of 616. | boysun\n",
      "Processing Record 552 of 616. | phuket\n",
      "Processing Record 553 of 616. | san rafael\n",
      "Processing Record 554 of 616. | udachnyy\n",
      "Processing Record 555 of 616. | san lorenzo\n",
      "Processing Record 556 of 616. | maceio\n",
      "Processing Record 557 of 616. | bambanglipuro\n",
      "Processing Record 558 of 616. | nshamba\n",
      "Processing Record 559 of 616. | kudahuvadhoo\n",
      "Processing Record 560 of 616. | vostok\n",
      "Processing Record 561 of 616. | den helder\n",
      "City not found. Skipping...\n",
      "Processing Record 563 of 616. | comodoro rivadavia\n",
      "Processing Record 564 of 616. | green river\n",
      "Processing Record 565 of 616. | sinaloa\n",
      "Processing Record 566 of 616. | straumen\n",
      "Processing Record 567 of 616. | dromolaxia\n",
      "Processing Record 568 of 616. | suamico\n",
      "Processing Record 569 of 616. | chabahar\n",
      "Processing Record 570 of 616. | havoysund\n",
      "Processing Record 571 of 616. | izberbash\n",
      "Processing Record 572 of 616. | igrim\n",
      "Processing Record 573 of 616. | nesna\n",
      "Processing Record 574 of 616. | bongandanga\n",
      "Processing Record 575 of 616. | deming\n",
      "Processing Record 576 of 616. | charters towers\n",
      "Processing Record 577 of 616. | imbituba\n",
      "Processing Record 578 of 616. | virtsu\n",
      "Processing Record 579 of 616. | bandarbeyla\n",
      "Processing Record 580 of 616. | ongandjera\n",
      "Processing Record 581 of 616. | harper\n",
      "Processing Record 582 of 616. | mao\n",
      "Processing Record 583 of 616. | svetlyy\n",
      "Processing Record 584 of 616. | ternate\n",
      "Processing Record 585 of 616. | geraldton\n",
      "Processing Record 586 of 616. | kamaishi\n",
      "Processing Record 587 of 616. | alugan\n",
      "Processing Record 588 of 616. | moree\n",
      "Processing Record 589 of 616. | batesville\n",
      "Processing Record 590 of 616. | jaque\n",
      "Processing Record 591 of 616. | nova odesa\n",
      "Processing Record 592 of 616. | iskateley\n",
      "City not found. Skipping...\n",
      "Processing Record 594 of 616. | lata\n",
      "Processing Record 595 of 616. | raga\n",
      "Processing Record 596 of 616. | matamoros\n",
      "Processing Record 597 of 616. | hirara\n",
      "Processing Record 598 of 616. | suseni\n",
      "Processing Record 599 of 616. | dwarka\n",
      "City not found. Skipping...\n",
      "Processing Record 601 of 616. | longyan\n",
      "City not found. Skipping...\n",
      "Processing Record 603 of 616. | port shepstone\n",
      "Processing Record 604 of 616. | platanos\n",
      "Processing Record 605 of 616. | puerto madero\n",
      "Processing Record 606 of 616. | middleton\n",
      "Processing Record 607 of 616. | anchorage\n",
      "Processing Record 608 of 616. | payo\n",
      "Processing Record 609 of 616. | port hardy\n",
      "Processing Record 610 of 616. | hualmay\n",
      "Processing Record 611 of 616. | henderson\n",
      "Processing Record 612 of 616. | tezu\n",
      "Processing Record 613 of 616. | ankazoabo\n",
      "Processing Record 614 of 616. | soyo\n"
     ]
    },
    {
     "name": "stdout",
     "output_type": "stream",
     "text": [
      "Processing Record 615 of 616. | ventspils\n",
      "City not found. Skipping...\n",
      "------------------------------\n",
      "Data Retreival Complete\n",
      "------------------------------\n"
     ]
    }
   ],
   "source": [
    "api_key = \"bdc921874538bff652d5acf03e5df30b\"\n",
    "\n",
    "# Starting URL for Weather Map API Call\n",
    "url = 'http://api.openweathermap.org/data/2.5/weather?units=Imperial&APPID=' + api_key\n",
    "units = \"imperial\"\n",
    "\n",
    "#Initiate counter for city number below\n",
    "number = 1\n",
    "\n",
    "#Lists for holding required items\n",
    "city_name = []\n",
    "latitude = []\n",
    "longitude = []\n",
    "temperature = []\n",
    "humidity = []\n",
    "cloudiness = []\n",
    "windspeed = []\n",
    "\n",
    "#Loop through each city, extract required items, and print result\n",
    "print('Beginning of Data Retreival')\n",
    "print('------------------------------')\n",
    "\n",
    "for city in cities:\n",
    "    try:\n",
    "        city_data = (requests.get(url + '&q=' + city)).json()\n",
    "        city_name.append(city_data['name'])\n",
    "        latitude.append(city_data['coord']['lat'])\n",
    "        longitude.append(city_data['coord']['lon'])\n",
    "        temperature.append(city_data['main']['temp'])\n",
    "        humidity.append(city_data['main']['humidity'])\n",
    "        cloudiness.append(city_data['clouds']['all'])\n",
    "        windspeed.append(city_data['wind']['speed'])\n",
    "        print(f'Processing Record {number} of {len(cities)}. | {city}')\n",
    "        number = number + 1\n",
    "    \n",
    "    except KeyError:\n",
    "        print(f'City not found. Skipping...')\n",
    "        number = number + 1\n",
    "        \n",
    "print('------------------------------')\n",
    "print('Data Retreival Complete')\n",
    "print('------------------------------')"
   ]
  },
  {
   "cell_type": "markdown",
   "metadata": {},
   "source": [
    "### Convert Raw Data to DataFrame\n",
    "* Export the city data into a .csv.\n",
    "* Display the DataFrame"
   ]
  },
  {
   "cell_type": "code",
   "execution_count": 5,
   "metadata": {},
   "outputs": [
    {
     "data": {
      "text/html": [
       "<div>\n",
       "<style scoped>\n",
       "    .dataframe tbody tr th:only-of-type {\n",
       "        vertical-align: middle;\n",
       "    }\n",
       "\n",
       "    .dataframe tbody tr th {\n",
       "        vertical-align: top;\n",
       "    }\n",
       "\n",
       "    .dataframe thead th {\n",
       "        text-align: right;\n",
       "    }\n",
       "</style>\n",
       "<table border=\"1\" class=\"dataframe\">\n",
       "  <thead>\n",
       "    <tr style=\"text-align: right;\">\n",
       "      <th></th>\n",
       "      <th>City</th>\n",
       "      <th>Latitude</th>\n",
       "      <th>Longitude</th>\n",
       "      <th>Temperature</th>\n",
       "      <th>Humidity</th>\n",
       "      <th>Cloudiness</th>\n",
       "      <th>Wind Speed</th>\n",
       "    </tr>\n",
       "  </thead>\n",
       "  <tbody>\n",
       "    <tr>\n",
       "      <th>0</th>\n",
       "      <td>Punta Arenas</td>\n",
       "      <td>-53.15</td>\n",
       "      <td>-70.92</td>\n",
       "      <td>41.00</td>\n",
       "      <td>75</td>\n",
       "      <td>100</td>\n",
       "      <td>24.16</td>\n",
       "    </tr>\n",
       "    <tr>\n",
       "      <th>1</th>\n",
       "      <td>Kapaa</td>\n",
       "      <td>22.08</td>\n",
       "      <td>-159.32</td>\n",
       "      <td>84.47</td>\n",
       "      <td>58</td>\n",
       "      <td>40</td>\n",
       "      <td>14.99</td>\n",
       "    </tr>\n",
       "    <tr>\n",
       "      <th>2</th>\n",
       "      <td>Port Elizabeth</td>\n",
       "      <td>-33.92</td>\n",
       "      <td>25.57</td>\n",
       "      <td>59.00</td>\n",
       "      <td>100</td>\n",
       "      <td>90</td>\n",
       "      <td>13.87</td>\n",
       "    </tr>\n",
       "    <tr>\n",
       "      <th>3</th>\n",
       "      <td>Avarua</td>\n",
       "      <td>-21.21</td>\n",
       "      <td>-159.78</td>\n",
       "      <td>78.80</td>\n",
       "      <td>78</td>\n",
       "      <td>92</td>\n",
       "      <td>17.22</td>\n",
       "    </tr>\n",
       "    <tr>\n",
       "      <th>4</th>\n",
       "      <td>Saint-Philippe</td>\n",
       "      <td>-21.36</td>\n",
       "      <td>55.77</td>\n",
       "      <td>63.59</td>\n",
       "      <td>77</td>\n",
       "      <td>75</td>\n",
       "      <td>3.36</td>\n",
       "    </tr>\n",
       "  </tbody>\n",
       "</table>\n",
       "</div>"
      ],
      "text/plain": [
       "             City  Latitude  Longitude  Temperature  Humidity  Cloudiness  \\\n",
       "0    Punta Arenas    -53.15     -70.92        41.00        75         100   \n",
       "1           Kapaa     22.08    -159.32        84.47        58          40   \n",
       "2  Port Elizabeth    -33.92      25.57        59.00       100          90   \n",
       "3          Avarua    -21.21    -159.78        78.80        78          92   \n",
       "4  Saint-Philippe    -21.36      55.77        63.59        77          75   \n",
       "\n",
       "   Wind Speed  \n",
       "0       24.16  \n",
       "1       14.99  \n",
       "2       13.87  \n",
       "3       17.22  \n",
       "4        3.36  "
      ]
     },
     "execution_count": 5,
     "metadata": {},
     "output_type": "execute_result"
    }
   ],
   "source": [
    "#Create a dataframe with required items\n",
    "city_data_df = pd.DataFrame({'City': city_name,\n",
    "                            'Latitude': latitude,\n",
    "                            'Longitude': longitude,\n",
    "                            'Temperature': temperature,\n",
    "                            'Humidity': humidity,\n",
    "                            'Cloudiness': cloudiness,\n",
    "                            'Wind Speed': windspeed})\n",
    "\n",
    "#Save dataframe as csv\n",
    "pd.DataFrame.to_csv(city_data_df, 'city_data.csv')\n",
    "\n",
    "city_data_df.head()"
   ]
  },
  {
   "cell_type": "code",
   "execution_count": 6,
   "metadata": {},
   "outputs": [
    {
     "data": {
      "text/html": [
       "<div>\n",
       "<style scoped>\n",
       "    .dataframe tbody tr th:only-of-type {\n",
       "        vertical-align: middle;\n",
       "    }\n",
       "\n",
       "    .dataframe tbody tr th {\n",
       "        vertical-align: top;\n",
       "    }\n",
       "\n",
       "    .dataframe thead th {\n",
       "        text-align: right;\n",
       "    }\n",
       "</style>\n",
       "<table border=\"1\" class=\"dataframe\">\n",
       "  <thead>\n",
       "    <tr style=\"text-align: right;\">\n",
       "      <th></th>\n",
       "      <th>City</th>\n",
       "      <th>Latitude</th>\n",
       "      <th>Longitude</th>\n",
       "      <th>Temperature</th>\n",
       "      <th>Humidity</th>\n",
       "      <th>Cloudiness</th>\n",
       "      <th>Wind Speed</th>\n",
       "    </tr>\n",
       "  </thead>\n",
       "  <tbody>\n",
       "    <tr>\n",
       "      <th>0</th>\n",
       "      <td>Punta Arenas</td>\n",
       "      <td>-53.15</td>\n",
       "      <td>-70.92</td>\n",
       "      <td>41.00</td>\n",
       "      <td>75</td>\n",
       "      <td>100</td>\n",
       "      <td>24.16</td>\n",
       "    </tr>\n",
       "    <tr>\n",
       "      <th>1</th>\n",
       "      <td>Kapaa</td>\n",
       "      <td>22.08</td>\n",
       "      <td>-159.32</td>\n",
       "      <td>84.47</td>\n",
       "      <td>58</td>\n",
       "      <td>40</td>\n",
       "      <td>14.99</td>\n",
       "    </tr>\n",
       "    <tr>\n",
       "      <th>2</th>\n",
       "      <td>Port Elizabeth</td>\n",
       "      <td>-33.92</td>\n",
       "      <td>25.57</td>\n",
       "      <td>59.00</td>\n",
       "      <td>100</td>\n",
       "      <td>90</td>\n",
       "      <td>13.87</td>\n",
       "    </tr>\n",
       "    <tr>\n",
       "      <th>3</th>\n",
       "      <td>Avarua</td>\n",
       "      <td>-21.21</td>\n",
       "      <td>-159.78</td>\n",
       "      <td>78.80</td>\n",
       "      <td>78</td>\n",
       "      <td>92</td>\n",
       "      <td>17.22</td>\n",
       "    </tr>\n",
       "    <tr>\n",
       "      <th>4</th>\n",
       "      <td>Saint-Philippe</td>\n",
       "      <td>-21.36</td>\n",
       "      <td>55.77</td>\n",
       "      <td>63.59</td>\n",
       "      <td>77</td>\n",
       "      <td>75</td>\n",
       "      <td>3.36</td>\n",
       "    </tr>\n",
       "  </tbody>\n",
       "</table>\n",
       "</div>"
      ],
      "text/plain": [
       "             City  Latitude  Longitude  Temperature  Humidity  Cloudiness  \\\n",
       "0    Punta Arenas    -53.15     -70.92        41.00        75         100   \n",
       "1           Kapaa     22.08    -159.32        84.47        58          40   \n",
       "2  Port Elizabeth    -33.92      25.57        59.00       100          90   \n",
       "3          Avarua    -21.21    -159.78        78.80        78          92   \n",
       "4  Saint-Philippe    -21.36      55.77        63.59        77          75   \n",
       "\n",
       "   Wind Speed  \n",
       "0       24.16  \n",
       "1       14.99  \n",
       "2       13.87  \n",
       "3       17.22  \n",
       "4        3.36  "
      ]
     },
     "execution_count": 6,
     "metadata": {},
     "output_type": "execute_result"
    }
   ],
   "source": [
    "city_data_df[city_data_df.Humidity > 100]\n",
    "city_data_df.head()"
   ]
  },
  {
   "cell_type": "markdown",
   "metadata": {},
   "source": [
    "## Inspect the data and remove the cities where the humidity > 100%.\n",
    "----\n",
    "Skip this step if there are no cities that have humidity > 100%. "
   ]
  },
  {
   "cell_type": "code",
   "execution_count": 7,
   "metadata": {},
   "outputs": [
    {
     "data": {
      "text/html": [
       "<div>\n",
       "<style scoped>\n",
       "    .dataframe tbody tr th:only-of-type {\n",
       "        vertical-align: middle;\n",
       "    }\n",
       "\n",
       "    .dataframe tbody tr th {\n",
       "        vertical-align: top;\n",
       "    }\n",
       "\n",
       "    .dataframe thead th {\n",
       "        text-align: right;\n",
       "    }\n",
       "</style>\n",
       "<table border=\"1\" class=\"dataframe\">\n",
       "  <thead>\n",
       "    <tr style=\"text-align: right;\">\n",
       "      <th></th>\n",
       "      <th>City</th>\n",
       "      <th>Latitude</th>\n",
       "      <th>Longitude</th>\n",
       "      <th>Temperature</th>\n",
       "      <th>Humidity</th>\n",
       "      <th>Cloudiness</th>\n",
       "      <th>Wind Speed</th>\n",
       "    </tr>\n",
       "  </thead>\n",
       "  <tbody>\n",
       "    <tr>\n",
       "      <th>0</th>\n",
       "      <td>Punta Arenas</td>\n",
       "      <td>-53.15</td>\n",
       "      <td>-70.92</td>\n",
       "      <td>41.00</td>\n",
       "      <td>75</td>\n",
       "      <td>100</td>\n",
       "      <td>24.16</td>\n",
       "    </tr>\n",
       "    <tr>\n",
       "      <th>1</th>\n",
       "      <td>Kapaa</td>\n",
       "      <td>22.08</td>\n",
       "      <td>-159.32</td>\n",
       "      <td>84.47</td>\n",
       "      <td>58</td>\n",
       "      <td>40</td>\n",
       "      <td>14.99</td>\n",
       "    </tr>\n",
       "    <tr>\n",
       "      <th>2</th>\n",
       "      <td>Port Elizabeth</td>\n",
       "      <td>-33.92</td>\n",
       "      <td>25.57</td>\n",
       "      <td>59.00</td>\n",
       "      <td>100</td>\n",
       "      <td>90</td>\n",
       "      <td>13.87</td>\n",
       "    </tr>\n",
       "    <tr>\n",
       "      <th>3</th>\n",
       "      <td>Avarua</td>\n",
       "      <td>-21.21</td>\n",
       "      <td>-159.78</td>\n",
       "      <td>78.80</td>\n",
       "      <td>78</td>\n",
       "      <td>92</td>\n",
       "      <td>17.22</td>\n",
       "    </tr>\n",
       "    <tr>\n",
       "      <th>4</th>\n",
       "      <td>Saint-Philippe</td>\n",
       "      <td>-21.36</td>\n",
       "      <td>55.77</td>\n",
       "      <td>63.59</td>\n",
       "      <td>77</td>\n",
       "      <td>75</td>\n",
       "      <td>3.36</td>\n",
       "    </tr>\n",
       "  </tbody>\n",
       "</table>\n",
       "</div>"
      ],
      "text/plain": [
       "             City  Latitude  Longitude  Temperature  Humidity  Cloudiness  \\\n",
       "0    Punta Arenas    -53.15     -70.92        41.00        75         100   \n",
       "1           Kapaa     22.08    -159.32        84.47        58          40   \n",
       "2  Port Elizabeth    -33.92      25.57        59.00       100          90   \n",
       "3          Avarua    -21.21    -159.78        78.80        78          92   \n",
       "4  Saint-Philippe    -21.36      55.77        63.59        77          75   \n",
       "\n",
       "   Wind Speed  \n",
       "0       24.16  \n",
       "1       14.99  \n",
       "2       13.87  \n",
       "3       17.22  \n",
       "4        3.36  "
      ]
     },
     "execution_count": 7,
     "metadata": {},
     "output_type": "execute_result"
    }
   ],
   "source": [
    "city_data_df[city_data_df.Humidity > 100]\n",
    "city_data_df.head()"
   ]
  },
  {
   "cell_type": "code",
   "execution_count": 8,
   "metadata": {},
   "outputs": [
    {
     "data": {
      "text/html": [
       "<div>\n",
       "<style scoped>\n",
       "    .dataframe tbody tr th:only-of-type {\n",
       "        vertical-align: middle;\n",
       "    }\n",
       "\n",
       "    .dataframe tbody tr th {\n",
       "        vertical-align: top;\n",
       "    }\n",
       "\n",
       "    .dataframe thead th {\n",
       "        text-align: right;\n",
       "    }\n",
       "</style>\n",
       "<table border=\"1\" class=\"dataframe\">\n",
       "  <thead>\n",
       "    <tr style=\"text-align: right;\">\n",
       "      <th></th>\n",
       "      <th>City</th>\n",
       "      <th>Latitude</th>\n",
       "      <th>Longitude</th>\n",
       "      <th>Temperature</th>\n",
       "      <th>Humidity</th>\n",
       "      <th>Cloudiness</th>\n",
       "      <th>Wind Speed</th>\n",
       "    </tr>\n",
       "  </thead>\n",
       "  <tbody>\n",
       "    <tr>\n",
       "      <th>0</th>\n",
       "      <td>Punta Arenas</td>\n",
       "      <td>-53.15</td>\n",
       "      <td>-70.92</td>\n",
       "      <td>41.00</td>\n",
       "      <td>75</td>\n",
       "      <td>100</td>\n",
       "      <td>24.16</td>\n",
       "    </tr>\n",
       "    <tr>\n",
       "      <th>1</th>\n",
       "      <td>Kapaa</td>\n",
       "      <td>22.08</td>\n",
       "      <td>-159.32</td>\n",
       "      <td>84.47</td>\n",
       "      <td>58</td>\n",
       "      <td>40</td>\n",
       "      <td>14.99</td>\n",
       "    </tr>\n",
       "    <tr>\n",
       "      <th>2</th>\n",
       "      <td>Port Elizabeth</td>\n",
       "      <td>-33.92</td>\n",
       "      <td>25.57</td>\n",
       "      <td>59.00</td>\n",
       "      <td>100</td>\n",
       "      <td>90</td>\n",
       "      <td>13.87</td>\n",
       "    </tr>\n",
       "    <tr>\n",
       "      <th>3</th>\n",
       "      <td>Avarua</td>\n",
       "      <td>-21.21</td>\n",
       "      <td>-159.78</td>\n",
       "      <td>78.80</td>\n",
       "      <td>78</td>\n",
       "      <td>92</td>\n",
       "      <td>17.22</td>\n",
       "    </tr>\n",
       "    <tr>\n",
       "      <th>4</th>\n",
       "      <td>Saint-Philippe</td>\n",
       "      <td>-21.36</td>\n",
       "      <td>55.77</td>\n",
       "      <td>63.59</td>\n",
       "      <td>77</td>\n",
       "      <td>75</td>\n",
       "      <td>3.36</td>\n",
       "    </tr>\n",
       "  </tbody>\n",
       "</table>\n",
       "</div>"
      ],
      "text/plain": [
       "             City  Latitude  Longitude  Temperature  Humidity  Cloudiness  \\\n",
       "0    Punta Arenas    -53.15     -70.92        41.00        75         100   \n",
       "1           Kapaa     22.08    -159.32        84.47        58          40   \n",
       "2  Port Elizabeth    -33.92      25.57        59.00       100          90   \n",
       "3          Avarua    -21.21    -159.78        78.80        78          92   \n",
       "4  Saint-Philippe    -21.36      55.77        63.59        77          75   \n",
       "\n",
       "   Wind Speed  \n",
       "0       24.16  \n",
       "1       14.99  \n",
       "2       13.87  \n",
       "3       17.22  \n",
       "4        3.36  "
      ]
     },
     "execution_count": 8,
     "metadata": {},
     "output_type": "execute_result"
    }
   ],
   "source": [
    "# Make a new DataFrame equal to the city data to drop all humidity outliers by index.\n",
    "# Passing \"inplace=False\" will make a copy of the city_data DataFrame, which we call \"clean_city_data\".\n",
    "clean_city_data = city_data_df\n",
    "clean_city_data.head()"
   ]
  },
  {
   "cell_type": "code",
   "execution_count": 36,
   "metadata": {},
   "outputs": [],
   "source": [
    "# Create as a CSV file\n",
    "pd.DataFrame.to_csv(clean_city_data, 'city_data.csv')"
   ]
  },
  {
   "cell_type": "markdown",
   "metadata": {},
   "source": [
    "## Plotting the Data\n",
    "* Use proper labeling of the plots using plot titles (including date of analysis) and axes labels.\n",
    "* Save the plotted figures as .pngs."
   ]
  },
  {
   "cell_type": "markdown",
   "metadata": {},
   "source": [
    "## Latitude vs. Temperature Plot"
   ]
  },
  {
   "cell_type": "code",
   "execution_count": 34,
   "metadata": {
    "scrolled": true
   },
   "outputs": [
    {
     "data": {
      "image/png": "[encoded data removed]",
      "text/plain": [
       "<Figure size 432x288 with 1 Axes>"
      ]
     },
     "metadata": {
      "needs_background": "light"
     },
     "output_type": "display_data"
    }
   ],
   "source": [
    "# Plot latitude vs temperature, saving as a .png file\n",
    "plt.scatter(clean_city_data['Latitude'], clean_city_data['Temperature'])\n",
    "plt.title(f'City Latitude vs. Max Temperature')\n",
    "plt.xlabel('Latitude')\n",
    "plt.ylabel('Max Temperature (F)')\n",
    "plt.grid(True)\n",
    "\n",
    "plt.savefig('latitude_temperature.png', bbox_inches='tight')"
   ]
  },
  {
   "cell_type": "markdown",
   "metadata": {},
   "source": [
    "Analysis: The code is comparing temperature to latitude of the randomly selected cities. The pattern indicates that the closer to the equator, the higher the maximum temperatures will be; vice-versa, the closer to the poles, the lower the maximum temperatures will be."
   ]
  },
  {
   "cell_type": "markdown",
   "metadata": {},
   "source": [
    "## Latitude vs. Humidity Plot"
   ]
  },
  {
   "cell_type": "code",
   "execution_count": 35,
   "metadata": {
    "scrolled": true
   },
   "outputs": [
    {
     "data": {
      "image/png": "[encoded data removed]",
      "text/plain": [
       "<Figure size 432x288 with 1 Axes>"
      ]
     },
     "metadata": {
      "needs_background": "light"
     },
     "output_type": "display_data"
    }
   ],
   "source": [
    "# Plot humidity vs latitude, saving as a .png file\n",
    "plt.scatter(clean_city_data['Latitude'], clean_city_data['Humidity'])\n",
    "plt.title(f'City Latitude vs. Humidity')\n",
    "plt.xlabel('Latitude')\n",
    "plt.ylabel('Humidity (%)')\n",
    "plt.grid(True)\n",
    "\n",
    "plt.savefig('lat_humid.png', bbox_inches='tight')"
   ]
  },
  {
   "cell_type": "markdown",
   "metadata": {},
   "source": [
    "Analysis: The code is comparing humidity and latitude of the randomly selected cities. There are drops in humidty levels where the latitude is -20 in the southern hemisphere and between 20 and 40 in the northern hemisphere. This could be the result of more cities located at those latitudes, climate differences, and/or elevation differences at those locations that will lower the humidy. "
   ]
  },
  {
   "cell_type": "markdown",
   "metadata": {},
   "source": [
    "## Latitude vs. Cloudiness Plot"
   ]
  },
  {
   "cell_type": "code",
   "execution_count": 36,
   "metadata": {},
   "outputs": [
    {
     "data": {
      "image/png": "[encoded data removed]",
      "text/plain": [
       "<Figure size 432x288 with 1 Axes>"
      ]
     },
     "metadata": {
      "needs_background": "light"
     },
     "output_type": "display_data"
    }
   ],
   "source": [
    "# Plot latitude vs cloudiness, saving as a .png file\n",
    "plt.scatter(clean_city_data['Latitude'], clean_city_data['Cloudiness'])\n",
    "plt.title(f'City Latitude vs. Cloudiness')\n",
    "plt.xlabel('Latitude')\n",
    "plt.ylabel('Cloudiness (%)')\n",
    "plt.grid(True)\n",
    "\n",
    "plt.savefig('lat_cloud.png', bbox_inches='tight')"
   ]
  },
  {
   "cell_type": "markdown",
   "metadata": {},
   "source": [
    "Analysis: The code is comparing cloudiness (as a percentage) and latitude. Of the randomly selected cities, there is no apparent pattern related to the latitude and whether the cities are cloudy. "
   ]
  },
  {
   "cell_type": "markdown",
   "metadata": {},
   "source": [
    "## Latitude vs. Wind Speed Plot"
   ]
  },
  {
   "cell_type": "code",
   "execution_count": 37,
   "metadata": {},
   "outputs": [
    {
     "data": {
      "image/png": "[encoded data removed]",
      "text/plain": [
       "<Figure size 432x288 with 1 Axes>"
      ]
     },
     "metadata": {
      "needs_background": "light"
     },
     "output_type": "display_data"
    }
   ],
   "source": [
    "# Plot latitude vs wind speed, saving as a .png file\n",
    "plt.scatter(clean_city_data['Latitude'], clean_city_data['Wind Speed'])\n",
    "plt.title(f'City Latitude vs. Wind Speed')\n",
    "plt.xlabel('Latitude')\n",
    "plt.ylabel('Wind Speed (mph)')\n",
    "plt.grid(True)\n",
    "\n",
    "plt.savefig('lat_wind.png', bbox_inches='tight')"
   ]
  },
  {
   "cell_type": "markdown",
   "metadata": {},
   "source": [
    "Analysis: The code compares wind speed against latitude. This data suggests that the wind speed is generally split evenly across all areas regardless of latitude with the exception of an outlier at the 75 degree northern-latitude mark. Most cities will have lower than 15 mph winds whereas the greatest concentration is below 10 mph average wind speed. "
   ]
  },
  {
   "cell_type": "code",
   "execution_count": 18,
   "metadata": {},
   "outputs": [],
   "source": [
    "northern_df = clean_city_data[clean_city_data[\"Latitude\"] >= 0]\n",
    "southern_df = clean_city_data[clean_city_data[\"Latitude\"] <0]"
   ]
  },
  {
   "cell_type": "code",
   "execution_count": 38,
   "metadata": {},
   "outputs": [
    {
     "name": "stdout",
     "output_type": "stream",
     "text": [
      "The r-squared is: -0.8023042943953549\n"
     ]
    },
    {
     "data": {
      "image/png": "[encoded data removed]",
      "text/plain": [
       "<Figure size 432x288 with 1 Axes>"
      ]
     },
     "metadata": {
      "needs_background": "light"
     },
     "output_type": "display_data"
    }
   ],
   "source": [
    "x_values = northern_df[\"Latitude\"]\n",
    "y_values = northern_df[\"Temperature\"]\n",
    "(slope, intercept, rvalue, pvalue, stderr) = linregress(x_values, y_values)\n",
    "regress_values = x_values * slope + intercept\n",
    "line_eq = \"y = \" + str(round(slope,2)) + \"x + \" + str(round(intercept,2))\n",
    "plt.scatter(x_values,y_values)\n",
    "plt.plot(x_values,regress_values,\"r-\")\n",
    "plt.annotate(line_eq,(0,50),fontsize=15,color=\"red\")\n",
    "plt.xlabel('Northern Latitude')\n",
    "plt.ylabel('Northern Latitude Temperature')\n",
    "print(f\"The r-squared is: {rvalue}\")\n",
    "#plt.show()\n",
    "\n",
    "plt.savefig('Northern_lat_temp.png', bbox_inches='tight')"
   ]
  },
  {
   "cell_type": "code",
   "execution_count": 39,
   "metadata": {},
   "outputs": [
    {
     "name": "stdout",
     "output_type": "stream",
     "text": [
      "The r-squared is: 0.7658605040503481\n"
     ]
    },
    {
     "data": {
      "image/png": "[encoded data removed]",
      "text/plain": [
       "<Figure size 432x288 with 1 Axes>"
      ]
     },
     "metadata": {
      "needs_background": "light"
     },
     "output_type": "display_data"
    }
   ],
   "source": [
    "x_values = southern_df[\"Latitude\"]\n",
    "y_values = southern_df[\"Temperature\"]\n",
    "(slope, intercept, rvalue, pvalue, stderr) = linregress(x_values, y_values)\n",
    "regress_values = x_values * slope + intercept\n",
    "line_eq = \"y = \" + str(round(slope,2)) + \"x + \" + str(round(intercept,2))\n",
    "plt.scatter(x_values,y_values)\n",
    "plt.plot(x_values,regress_values,\"r-\")\n",
    "plt.annotate(line_eq,(0,50),fontsize=15,color=\"red\")\n",
    "plt.xlabel('Southern Latitude')\n",
    "plt.ylabel('Southern Latitude Temperature')\n",
    "print(f\"The r-squared is: {rvalue}\")\n",
    "#plt.show()\n",
    "\n",
    "plt.savefig('Southern_lat_temp.png', bbox_inches='tight')"
   ]
  },
  {
   "cell_type": "markdown",
   "metadata": {},
   "source": [
    "Analysis: In segregating the data between the two hemispheres, we can see that there is a clear relationship between maximum temperature and the proximity to the equator. As we travel nearest the poles, the max temperature drops; the correlation is stronger in the Southern Hemisphere. "
   ]
  },
  {
   "cell_type": "code",
   "execution_count": 40,
   "metadata": {},
   "outputs": [
    {
     "name": "stdout",
     "output_type": "stream",
     "text": [
      "The r-squared is: -0.05213892368258145\n"
     ]
    },
    {
     "data": {
      "image/png": "[encoded data removed]",
      "text/plain": [
       "<Figure size 432x288 with 1 Axes>"
      ]
     },
     "metadata": {
      "needs_background": "light"
     },
     "output_type": "display_data"
    }
   ],
   "source": [
    "x_values = northern_df[\"Latitude\"]\n",
    "y_values = northern_df[\"Humidity\"]\n",
    "(slope, intercept, rvalue, pvalue, stderr) = linregress(x_values, y_values)\n",
    "regress_values = x_values * slope + intercept\n",
    "line_eq = \"y = \" + str(round(slope,2)) + \"x + \" + str(round(intercept,2))\n",
    "plt.scatter(x_values,y_values)\n",
    "plt.plot(x_values,regress_values,\"r-\")\n",
    "plt.annotate(line_eq,(0,50),fontsize=15,color=\"red\")\n",
    "plt.xlabel('Northern Latitude')\n",
    "plt.ylabel('Northern Latitude Humidity')\n",
    "print(f\"The r-squared is: {rvalue}\")\n",
    "#plt.show()\n",
    "\n",
    "plt.savefig('Northern_lat_humidity.png', bbox_inches='tight')"
   ]
  },
  {
   "cell_type": "code",
   "execution_count": 41,
   "metadata": {},
   "outputs": [
    {
     "name": "stdout",
     "output_type": "stream",
     "text": [
      "The r-squared is: 0.14088433083100232\n"
     ]
    },
    {
     "data": {
      "image/png": "[encoded data removed]",
      "text/plain": [
       "<Figure size 432x288 with 1 Axes>"
      ]
     },
     "metadata": {
      "needs_background": "light"
     },
     "output_type": "display_data"
    }
   ],
   "source": [
    "x_values = southern_df[\"Latitude\"]\n",
    "y_values = southern_df[\"Humidity\"]\n",
    "(slope, intercept, rvalue, pvalue, stderr) = linregress(x_values, y_values)\n",
    "regress_values = x_values * slope + intercept\n",
    "line_eq = \"y = \" + str(round(slope,2)) + \"x + \" + str(round(intercept,2))\n",
    "plt.scatter(x_values,y_values)\n",
    "plt.plot(x_values,regress_values,\"r-\")\n",
    "plt.annotate(line_eq,(0,50),fontsize=15,color=\"red\")\n",
    "plt.xlabel('Southern Latitude')\n",
    "plt.ylabel('Southern Latitude Humidity')\n",
    "print(f\"The r-squared is: {rvalue}\")\n",
    "#plt.show()\n",
    "\n",
    "plt.savefig('Southern_lat_humidity.png', bbox_inches='tight')"
   ]
  },
  {
   "cell_type": "raw",
   "metadata": {},
   "source": [
    "Analysis: In reviewing the effects of latitude on humidity, we can see a stronger correlation in the Southern Hemisphere as compared with the north, however in both analyses, the relationship is not strong. Expectedly, the humidity is the strongest near the equator."
   ]
  },
  {
   "cell_type": "code",
   "execution_count": 42,
   "metadata": {},
   "outputs": [
    {
     "name": "stdout",
     "output_type": "stream",
     "text": [
      "The r-squared is: -0.01196903390472116\n"
     ]
    },
    {
     "data": {
      "image/png": "[encoded data removed]",
      "text/plain": [
       "<Figure size 432x288 with 1 Axes>"
      ]
     },
     "metadata": {
      "needs_background": "light"
     },
     "output_type": "display_data"
    }
   ],
   "source": [
    "x_values = northern_df[\"Latitude\"]\n",
    "y_values = northern_df[\"Cloudiness\"]\n",
    "(slope, intercept, rvalue, pvalue, stderr) = linregress(x_values, y_values)\n",
    "regress_values = x_values * slope + intercept\n",
    "line_eq = \"y = \" + str(round(slope,2)) + \"x + \" + str(round(intercept,2))\n",
    "plt.scatter(x_values,y_values)\n",
    "plt.plot(x_values,regress_values,\"r-\")\n",
    "plt.annotate(line_eq,(0,50),fontsize=15,color=\"red\")\n",
    "plt.xlabel('Northern Latitude')\n",
    "plt.ylabel('Northern Latitude Cloudiness')\n",
    "print(f\"The r-squared is: {rvalue}\")\n",
    "#plt.show()\n",
    "\n",
    "plt.savefig('Northern_lat_cloudiness.png', bbox_inches='tight')"
   ]
  },
  {
   "cell_type": "code",
   "execution_count": 43,
   "metadata": {},
   "outputs": [
    {
     "name": "stdout",
     "output_type": "stream",
     "text": [
      "The r-squared is: 0.06927671245162613\n"
     ]
    },
    {
     "data": {
      "image/png": "[encoded data removed]",
      "text/plain": [
       "<Figure size 432x288 with 1 Axes>"
      ]
     },
     "metadata": {
      "needs_background": "light"
     },
     "output_type": "display_data"
    }
   ],
   "source": [
    "x_values = southern_df[\"Latitude\"]\n",
    "y_values = southern_df[\"Cloudiness\"]\n",
    "(slope, intercept, rvalue, pvalue, stderr) = linregress(x_values, y_values)\n",
    "regress_values = x_values * slope + intercept\n",
    "line_eq = \"y = \" + str(round(slope,2)) + \"x + \" + str(round(intercept,2))\n",
    "plt.scatter(x_values,y_values)\n",
    "plt.plot(x_values,regress_values,\"r-\")\n",
    "plt.annotate(line_eq,(0,50),fontsize=15,color=\"red\")\n",
    "plt.xlabel('Southern Latitude')\n",
    "plt.ylabel('Southern Latitude Cloudiness')\n",
    "print(f\"The r-squared is: {rvalue}\")\n",
    "#plt.show()\n",
    "\n",
    "plt.savefig('Southern_lat_cloudiness.png', bbox_inches='tight')"
   ]
  },
  {
   "cell_type": "markdown",
   "metadata": {},
   "source": [
    "Analysis: Unlike in the view of both hemispheres, when splitting the data, we can see a clearer view of how latitude affects cloudiness. Although the correlation is weak in both the northern and southern data sets, we can see that there is an effect as cloudiness drops when closer to the poles."
   ]
  },
  {
   "cell_type": "code",
   "execution_count": 44,
   "metadata": {},
   "outputs": [
    {
     "name": "stdout",
     "output_type": "stream",
     "text": [
      "The r-squared is: 0.07257858221796792\n"
     ]
    },
    {
     "data": {
      "image/png": "[encoded data removed]",
      "text/plain": [
       "<Figure size 432x288 with 1 Axes>"
      ]
     },
     "metadata": {
      "needs_background": "light"
     },
     "output_type": "display_data"
    }
   ],
   "source": [
    "x_values = northern_df[\"Latitude\"]\n",
    "y_values = northern_df[\"Wind Speed\"]\n",
    "(slope, intercept, rvalue, pvalue, stderr) = linregress(x_values, y_values)\n",
    "regress_values = x_values * slope + intercept\n",
    "line_eq = \"y = \" + str(round(slope,2)) + \"x + \" + str(round(intercept,2))\n",
    "plt.scatter(x_values,y_values)\n",
    "plt.plot(x_values,regress_values,\"r-\")\n",
    "plt.annotate(line_eq,(0,50),fontsize=15,color=\"red\")\n",
    "plt.xlabel('Northern Latitude')\n",
    "plt.ylabel('Northern Latitude Wind Speed')\n",
    "print(f\"The r-squared is: {rvalue}\")\n",
    "#plt.show()\n",
    "\n",
    "plt.savefig('Northern_lat_windspeed.png')\n"
   ]
  },
  {
   "cell_type": "code",
   "execution_count": 45,
   "metadata": {},
   "outputs": [
    {
     "name": "stdout",
     "output_type": "stream",
     "text": [
      "The r-squared is: -0.17805481559465333\n"
     ]
    },
    {
     "data": {
      "image/png": "[encoded data removed]",
      "text/plain": [
       "<Figure size 432x288 with 1 Axes>"
      ]
     },
     "metadata": {
      "needs_background": "light"
     },
     "output_type": "display_data"
    }
   ],
   "source": [
    "x_values = southern_df[\"Latitude\"]\n",
    "y_values = southern_df[\"Wind Speed\"]\n",
    "(slope, intercept, rvalue, pvalue, stderr) = linregress(x_values, y_values)\n",
    "regress_values = x_values * slope + intercept\n",
    "line_eq = \"y = \" + str(round(slope,2)) + \"x + \" + str(round(intercept,2))\n",
    "plt.scatter(x_values,y_values)\n",
    "plt.plot(x_values,regress_values,\"r-\")\n",
    "plt.annotate(line_eq,(0,50),fontsize=15,color=\"red\")\n",
    "plt.xlabel('Southern Latitude')\n",
    "plt.ylabel('Southern Latitude Wind Speed')\n",
    "print(f\"The r-squared is: {rvalue}\")\n",
    "#plt.show()\n",
    "\n",
    "plt.savefig('Southern_lat_windspeed.png', bbox_inches='tight')"
   ]
  },
  {
   "cell_type": "markdown",
   "metadata": {},
   "source": [
    "Analysis: The latitude has an effect on wind speed, but in a fashion different from the other data examined. In the previous views, the effect has increased generally when closer to the equator. In wind speed, however, we are seeing the opposite. Stronger in the Southern Hemisphere than in the North, the wind increases closer to the poles. "
   ]
  }
 ],
 "metadata": {
  "anaconda-cloud": {},
  "kernel_info": {
   "name": "python3"
  },
  "kernelspec": {
   "display_name": "Python 3.7.6 64-bit ('Eric': virtualenv)",
   "language": "python",
   "name": "python37664bitericvirtualenv7aa0c6fca6054586831ff73f9d20baf1"
  },
  "language_info": {
   "codemirror_mode": {
    "name": "ipython",
    "version": 3
   },
   "file_extension": ".py",
   "mimetype": "text/x-python",
   "name": "python",
   "nbconvert_exporter": "python",
   "pygments_lexer": "ipython3",
   "version": "3.7.6"
  },
  "latex_envs": {
   "LaTeX_envs_menu_present": true,
   "autoclose": false,
   "autocomplete": true,
   "bibliofile": "biblio.bib",
   "cite_by": "apalike",
   "current_citInitial": 1,
   "eqLabelWithNumbers": true,
   "eqNumInitial": 1,
   "hotkeys": {
    "equation": "Ctrl-E",
    "itemize": "Ctrl-I"
   },
   "labels_anchors": false,
   "latex_user_defs": false,
   "report_style_numbering": false,
   "user_envs_cfg": false
  },
  "nteract": {
   "version": "0.12.3"
  }
 },
 "nbformat": 4,
 "nbformat_minor": 2
}
